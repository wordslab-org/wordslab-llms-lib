{
 "cells": [
  {
   "cell_type": "markdown",
   "id": "07094cd2-9baa-4577-bd05-7d63bb8753e6",
   "metadata": {},
   "source": [
    "# wordslab-llms Python library"
   ]
  },
  {
   "cell_type": "markdown",
   "id": "29743c46-e091-44a5-9c30-a32ccf321bf6",
   "metadata": {},
   "source": [
    "## [First time only] Create and clone a Github repository"
   ]
  },
  {
   "cell_type": "markdown",
   "id": "7c2205cb-bfd1-4bdd-a80e-639719096ed0",
   "metadata": {},
   "source": [
    "**Create an empty Github repo**\n",
    "\n",
    "https://nbdev.fast.ai/tutorials/tutorial.html#create-an-empty-github-repo"
   ]
  },
  {
   "cell_type": "code",
   "execution_count": null,
   "id": "5bc316ec-3897-4f99-9e5d-0ef8a74d7f4b",
   "metadata": {},
   "outputs": [],
   "source": [
    "!create-workspace-project https://github.com/wordslab-org/wordslab-llms-lib.git"
   ]
  },
  {
   "cell_type": "markdown",
   "id": "099ee671-0e38-4bff-99e9-570da5af7336",
   "metadata": {
    "execution": {
     "iopub.execute_input": "2024-02-11T09:55:20.543424Z",
     "iopub.status.busy": "2024-02-11T09:55:20.543233Z",
     "iopub.status.idle": "2024-02-11T09:55:20.546308Z",
     "shell.execute_reply": "2024-02-11T09:55:20.545725Z",
     "shell.execute_reply.started": "2024-02-11T09:55:20.543409Z"
    },
    "tags": []
   },
   "source": [
    "## Install the nbdev development environment\n",
    "\n",
    "https://nbdev.fast.ai/tutorials/tutorial.html"
   ]
  },
  {
   "cell_type": "code",
   "execution_count": null,
   "id": "08cee1d9-37c6-4862-ade4-927009afd562",
   "metadata": {
    "tags": []
   },
   "outputs": [],
   "source": [
    "pip install nbdev"
   ]
  },
  {
   "cell_type": "code",
   "execution_count": null,
   "id": "697dc436-11e1-4ea4-927d-93ff36554dbf",
   "metadata": {
    "tags": []
   },
   "outputs": [],
   "source": [
    "!apt install sudo"
   ]
  },
  {
   "cell_type": "code",
   "execution_count": 17,
   "id": "c3fb807b-1869-480c-a065-bf99346e9e0a",
   "metadata": {
    "execution": {
     "iopub.execute_input": "2024-02-11T09:59:05.708425Z",
     "iopub.status.busy": "2024-02-11T09:59:05.708088Z",
     "iopub.status.idle": "2024-02-11T09:59:13.617081Z",
     "shell.execute_reply": "2024-02-11T09:59:13.616540Z",
     "shell.execute_reply.started": "2024-02-11T09:59:05.708410Z"
    },
    "tags": []
   },
   "outputs": [
    {
     "name": "stdout",
     "output_type": "stream",
     "text": [
      "Installing or upgrading quarto -- this requires root access.\n",
      "  % Total    % Received % Xferd  Average Speed   Time    Time     Time  Current\n",
      "                                 Dload  Upload   Total   Spent    Left  Speed\n",
      "100    72  100    72    0     0    305      0 --:--:-- --:--:-- --:--:--   306\n",
      "100   114    0   114    0     0    310      0 --:--:-- --:--:-- --:--:--   310\n",
      "  0     0    0     0    0     0      0      0 --:--:-- --:--:-- --:--:--     0\n",
      "100  111M  100  111M    0     0  19.2M      0  0:00:05  0:00:05 --:--:-- 23.9M\n",
      "Selecting previously unselected package quarto.\n",
      "(Reading database ... 136966 files and directories currently installed.)\n",
      "Preparing to unpack quarto-linux-amd64.deb ...\n",
      "Unpacking quarto (1.4.549) ...\n",
      "Setting up quarto (1.4.549) ...\n"
     ]
    }
   ],
   "source": [
    "!source .venv/bin/activate; nbdev_install_quarto"
   ]
  },
  {
   "cell_type": "code",
   "execution_count": null,
   "id": "b9a44f7a-b07d-4d78-9ee4-38e4fdabbdd3",
   "metadata": {
    "tags": []
   },
   "outputs": [],
   "source": [
    "pip install jupyterlab-quarto"
   ]
  },
  {
   "cell_type": "markdown",
   "id": "7e6f8e56-8fde-4fa5-ba02-c17a320cc6e1",
   "metadata": {},
   "source": [
    "## [First time only] Initialize and configure the Github repository\n",
    "\n",
    "IMPORTANT: execute the command below directly in a Terminal."
   ]
  },
  {
   "cell_type": "code",
   "execution_count": null,
   "id": "736a7526-6cd4-447d-b8c9-d767d02b4ba1",
   "metadata": {
    "tags": []
   },
   "outputs": [],
   "source": [
    "!source .venv/bin/activate; nbdev_new --lib_name=wordslab_llms"
   ]
  },
  {
   "cell_type": "markdown",
   "id": "341ea3b0-4840-49fc-a3aa-2489f397b6fc",
   "metadata": {},
   "source": [
    "Fix the following entries in settings.ini:\n",
    "- min_python = 3.9 (3.10 is not supported by nbdev)\n",
    "- lib_path = wordslab_llms (and rename the corresponding path)\n",
    "- doc_host = https://wordslab-org.github.io\n",
    "- git_url = https://github.com/wordslab-org/%(repo)s\n",
    "- keywords = nbdev jupyter notebook python llm huggingface transformers\n",
    "- user = cognitivefactory"
   ]
  },
  {
   "cell_type": "markdown",
   "id": "ab102c6c-68c4-4ec1-bc1d-8b0c59ac8fed",
   "metadata": {},
   "source": [
    "THEN run nbdev_export at least once:"
   ]
  },
  {
   "cell_type": "code",
   "execution_count": null,
   "id": "1b92e547-6bbd-462c-9451-2c641add3de4",
   "metadata": {},
   "outputs": [],
   "source": [
    "!source .venv/bin/activate; nbdev_export"
   ]
  },
  {
   "cell_type": "markdown",
   "id": "b172fe14-a48d-4432-a17a-6138642fe4b9",
   "metadata": {},
   "source": [
    "**IMPORTANT**: first make sure the Github token you use for authentication has the **workflow** scope allowed.\n",
    "\n",
    "Add, commit, and push to the Github repo."
   ]
  },
  {
   "cell_type": "code",
   "execution_count": null,
   "id": "9383f191-1c60-4ffa-be96-61029a6da886",
   "metadata": {},
   "outputs": [],
   "source": [
    "git add .\n",
    "git commit -m'Initial commit'\n",
    "git push"
   ]
  },
  {
   "cell_type": "markdown",
   "id": "b3fa94ef-4dcc-4f6d-96b9-25d8d57d1cba",
   "metadata": {},
   "source": [
    "Make sure the Github workflow used to publish the documentation was executed without errors. \n",
    "\n",
    "(see Actions tab in the Github repo) "
   ]
  },
  {
   "cell_type": "markdown",
   "id": "19b96f40-7b45-41f2-947f-bde383c169dc",
   "metadata": {},
   "source": [
    "**Enable Github pages**\n",
    "\n",
    "https://nbdev.fast.ai/tutorials/tutorial.html#enable-github-pages"
   ]
  },
  {
   "cell_type": "markdown",
   "id": "a6eca6ad-22f8-4207-a6f6-bfa408dfae7a",
   "metadata": {},
   "source": [
    "Then update the wbesite of the repo to the URL: https://wordslab-org.github.io/wordslab-llms-lib/"
   ]
  },
  {
   "cell_type": "markdown",
   "id": "3776b75b-1ad1-4e77-be7d-46236ed7b2fb",
   "metadata": {},
   "source": [
    "**Install nbdev git hooks**"
   ]
  },
  {
   "cell_type": "code",
   "execution_count": null,
   "id": "cbfa6c6b-5fa9-483d-9bcd-cb7899f7a9fb",
   "metadata": {},
   "outputs": [],
   "source": [
    "nbdev_install_hooks"
   ]
  },
  {
   "cell_type": "markdown",
   "id": "79b86b60-7770-44bf-af21-99853c69bbb2",
   "metadata": {},
   "source": [
    "## Build your library"
   ]
  },
  {
   "cell_type": "code",
   "execution_count": null,
   "id": "7c9ff311-e72b-4418-9cc2-6f15efc3fa65",
   "metadata": {},
   "outputs": [],
   "source": [
    "nbdev_export"
   ]
  },
  {
   "cell_type": "markdown",
   "id": "7301e5f8-81d4-4733-9a0d-eb56d103eeff",
   "metadata": {},
   "source": [
    "## Install your library"
   ]
  },
  {
   "cell_type": "code",
   "execution_count": null,
   "id": "15608b17-fb3a-420c-801e-346cabfb0b11",
   "metadata": {},
   "outputs": [],
   "source": [
    "pip install -e '.[dev]'"
   ]
  },
  {
   "cell_type": "markdown",
   "id": "84a7fa37-700d-4676-984e-baa4c028c696",
   "metadata": {},
   "source": [
    "## Preview your docs"
   ]
  },
  {
   "cell_type": "code",
   "execution_count": null,
   "id": "a0e8147a-2666-4fb2-9683-471ebfcfe65a",
   "metadata": {},
   "outputs": [],
   "source": [
    "nbdev_preview --host 0.0.0.0 --port 7860"
   ]
  },
  {
   "cell_type": "markdown",
   "id": "c2884832-f205-4e8d-8a17-0b28b35d223e",
   "metadata": {},
   "source": [
    "Point your browser to: http://192.168.1.24/notebooks/gradio/"
   ]
  },
  {
   "cell_type": "code",
   "execution_count": null,
   "id": "cd553bd8-267a-4760-a567-982616618971",
   "metadata": {},
   "outputs": [],
   "source": []
  }
 ],
 "metadata": {
  "kernelspec": {
   "display_name": "wordslab-llms-lib",
   "language": "python",
   "name": "wordslab-llms-lib"
  },
  "language_info": {
   "codemirror_mode": {
    "name": "ipython",
    "version": 3
   },
   "file_extension": ".py",
   "mimetype": "text/x-python",
   "name": "python",
   "nbconvert_exporter": "python",
   "pygments_lexer": "ipython3",
   "version": "3.10.12"
  }
 },
 "nbformat": 4,
 "nbformat_minor": 5
}
